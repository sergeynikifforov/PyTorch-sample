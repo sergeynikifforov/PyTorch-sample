{
 "cells": [
  {
   "cell_type": "code",
   "execution_count": 1,
   "metadata": {},
   "outputs": [],
   "source": [
    "import torch      \n",
    "from torch.autograd import Variable     \n",
    "import torch.nn as nn \n",
    "import warnings\n",
    "warnings.filterwarnings(\"ignore\")\n",
    "import numpy as np\n",
    "import matplotlib.pyplot as plt\n",
    "import cantera as ct\n",
    "import csv"
   ]
  },
  {
   "cell_type": "code",
   "execution_count": 10,
   "metadata": {},
   "outputs": [],
   "source": [
    "#data\n",
    "# As a car company we collect this data from previous selling\n",
    "# lets define car prices\n",
    "car_prices_array = [3,4,5,6,7,8,9]\n",
    "car_price_np = np.array(car_prices_array,dtype=np.float32)\n",
    "car_price_np = car_price_np.reshape(-1,1)\n",
    "car_price_tensor = Variable(torch.from_numpy(car_price_np))\n",
    "\n",
    "# lets define number of car sell\n",
    "number_of_car_sell_array = [ 7.5, 7, 6.5, 6.0, 5.5, 5.0, 4.5]\n",
    "number_of_car_sell_np = np.array(number_of_car_sell_array,dtype=np.float32)\n",
    "number_of_car_sell_np = number_of_car_sell_np.reshape(-1,1)\n",
    "number_of_car_sell_tensor = Variable(torch.from_numpy(number_of_car_sell_np))"
   ]
  },
  {
   "cell_type": "code",
   "execution_count": 28,
   "metadata": {},
   "outputs": [
    {
     "name": "stdout",
     "output_type": "stream",
     "text": [
      "Wall time: 1.51 s\n"
     ]
    }
   ],
   "source": [
    "%%time\n",
    "gas = ct.Solution('gri30.cti')\n",
    "def f_x(T,phi):\n",
    "    gas.TPX = T, ct.one_atm, 'CH4:%f,O2:1,N2:3.76'%(0.5*phi)\n",
    "    r = ct.IdealGasConstPressureReactor(gas,energy = 'off')\n",
    "    sim = ct.ReactorNet([r])\n",
    "    return sim, r\n",
    "file = open('data_output.csv', 'w')\n",
    "csvfile = csv.writer(file)\n",
    "\n",
    "\n",
    "states = ct.SolutionArray(gas, extra=['t'])\n",
    "for phi in range(1,10,1):\n",
    "    for T in range(1000,2000,100):\n",
    "        phi_new = 0.5+0.15*phi\n",
    "        sim, r = f_x(T,phi_new)\n",
    "        time = 0.0\n",
    "        for n in range(100):\n",
    "            time +=1.e-5\n",
    "            sim.advance(time)\n",
    "            s = np.array([time, r.thermo.T, phi_new, r.thermo.X[gas.species_index('CH4')]])\n",
    "            states.append(r.thermo.state, t = time)\n",
    "\n",
    "\n",
    "            csvfile.writerow(s)\n",
    "file.close()"
   ]
  },
  {
   "cell_type": "code",
   "execution_count": 11,
   "metadata": {},
   "outputs": [],
   "source": [
    "# create class\n",
    "class LinearRegression(nn.Module):\n",
    "    def __init__(self,input_size,output_size):\n",
    "        # super function. It inherits from nn.Module and we can access everythink in nn.Module\n",
    "        super(LinearRegression,self).__init__()\n",
    "        # Linear function.\n",
    "        self.linear = nn.Linear(input_dim,output_dim)\n",
    "\n",
    "    def forward(self,x):\n",
    "        return self.linear(x)"
   ]
  },
  {
   "cell_type": "code",
   "execution_count": 12,
   "metadata": {},
   "outputs": [],
   "source": [
    "input_dim = 1\n",
    "output_dim = 1\n",
    "model = LinearRegression(input_dim,output_dim) # input and output size are 1"
   ]
  },
  {
   "cell_type": "code",
   "execution_count": 13,
   "metadata": {},
   "outputs": [],
   "source": [
    "mse = nn.MSELoss()"
   ]
  },
  {
   "cell_type": "code",
   "execution_count": 14,
   "metadata": {},
   "outputs": [],
   "source": [
    "# Optimization (find parameters that minimize error)\n",
    "learning_rate = 0.02   # how fast we reach best parameters\n",
    "optimizer = torch.optim.SGD(model.parameters(),lr = learning_rate)"
   ]
  },
  {
   "cell_type": "code",
   "execution_count": 15,
   "metadata": {},
   "outputs": [
    {
     "name": "stdout",
     "output_type": "stream",
     "text": [
      "epoch 0, loss 25.51702880859375\n",
      "epoch 50, loss 5.946239471435547\n",
      "epoch 100, loss 4.018123626708984\n",
      "epoch 150, loss 2.7152130603790283\n",
      "epoch 200, loss 1.8347843885421753\n",
      "epoch 250, loss 1.239840030670166\n",
      "epoch 300, loss 0.8378117680549622\n",
      "epoch 350, loss 0.566143810749054\n",
      "epoch 400, loss 0.38256698846817017\n",
      "epoch 450, loss 0.25851666927337646\n",
      "epoch 500, loss 0.17468979954719543\n",
      "epoch 550, loss 0.11804484575986862\n",
      "epoch 600, loss 0.07976777851581573\n",
      "epoch 650, loss 0.053902678191661835\n",
      "epoch 700, loss 0.03642459213733673\n",
      "epoch 750, loss 0.02461354248225689\n",
      "epoch 800, loss 0.016632601618766785\n",
      "epoch 850, loss 0.011239279992878437\n",
      "epoch 900, loss 0.007594919763505459\n",
      "epoch 950, loss 0.005132205784320831\n",
      "epoch 1000, loss 0.003468053648248315\n"
     ]
    }
   ],
   "source": [
    "# train model\n",
    "loss_list = []\n",
    "iteration_number = 1001\n",
    "for iteration in range(iteration_number):\n",
    "        \n",
    "    # optimization\n",
    "    optimizer.zero_grad() \n",
    "    \n",
    "    # Forward to get output\n",
    "    results = model(car_price_tensor)\n",
    "    \n",
    "    # Calculate Loss\n",
    "    loss = mse(results, number_of_car_sell_tensor)\n",
    "    \n",
    "    # backward propagation\n",
    "    loss.backward()\n",
    "    \n",
    "    # Updating parameters\n",
    "    optimizer.step()\n",
    "    \n",
    "    # store loss\n",
    "    loss_list.append(loss.data)\n",
    "    \n",
    "    # print loss\n",
    "    if(iteration % 50 == 0):\n",
    "        print('epoch {}, loss {}'.format(iteration, loss.data))\n"
   ]
  },
  {
   "cell_type": "code",
   "execution_count": 18,
   "metadata": {
    "scrolled": true
   },
   "outputs": [
    {
     "data": {
      "image/png": "[encoded data removed]",
      "text/plain": [
       "<Figure size 432x288 with 1 Axes>"
      ]
     },
     "metadata": {
      "needs_background": "light"
     },
     "output_type": "display_data"
    }
   ],
   "source": [
    "plt.plot(range(iteration_number),loss_list)\n",
    "plt.xlabel(\"Number of Iterations\")\n",
    "plt.ylabel(\"Loss\")\n",
    "plt.show()"
   ]
  },
  {
   "cell_type": "code",
   "execution_count": null,
   "metadata": {},
   "outputs": [],
   "source": []
  }
 ],
 "metadata": {
  "kernelspec": {
   "display_name": "Python 3",
   "language": "python",
   "name": "python3"
  },
  "language_info": {
   "codemirror_mode": {
    "name": "ipython",
    "version": 3
   },
   "file_extension": ".py",
   "mimetype": "text/x-python",
   "name": "python",
   "nbconvert_exporter": "python",
   "pygments_lexer": "ipython3",
   "version": "3.6.8"
  }
 },
 "nbformat": 4,
 "nbformat_minor": 2
}
